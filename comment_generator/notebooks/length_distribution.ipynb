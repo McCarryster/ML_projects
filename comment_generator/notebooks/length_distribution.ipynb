{
 "cells": [
  {
   "cell_type": "code",
   "execution_count": 2,
   "metadata": {},
   "outputs": [],
   "source": [
    "import json\n",
    "import os\n",
    "from collections import Counter\n",
    "import matplotlib.pyplot as plt"
   ]
  },
  {
   "cell_type": "code",
   "execution_count": 9,
   "metadata": {},
   "outputs": [],
   "source": [
    "data_dir = '/home/mccarryster/very_big_work_ubuntu/ML_projects/comment_generator/data/data_types/processed_data/filtered/comment_only_test_set.json'\n",
    "with open(data_dir, 'r') as file:\n",
    "    data = json.load(file)"
   ]
  },
  {
   "cell_type": "code",
   "execution_count": 10,
   "metadata": {},
   "outputs": [
    {
     "name": "stdout",
     "output_type": "stream",
     "text": [
      "Output String Length Distribution:\n",
      "Length 50: 238 occurrences\n",
      "Length 51: 234 occurrences\n",
      "Length 52: 241 occurrences\n",
      "Length 53: 215 occurrences\n",
      "Length 54: 245 occurrences\n",
      "Length 55: 248 occurrences\n",
      "Length 56: 221 occurrences\n",
      "Length 57: 213 occurrences\n",
      "Length 58: 202 occurrences\n",
      "Length 59: 170 occurrences\n",
      "Length 60: 188 occurrences\n",
      "Length 61: 186 occurrences\n",
      "Length 62: 211 occurrences\n",
      "Length 63: 207 occurrences\n",
      "Length 64: 185 occurrences\n",
      "Length 65: 184 occurrences\n",
      "Length 66: 175 occurrences\n",
      "Length 67: 155 occurrences\n",
      "Length 68: 161 occurrences\n",
      "Length 69: 141 occurrences\n",
      "Length 70: 134 occurrences\n",
      "Length 71: 124 occurrences\n",
      "Length 72: 169 occurrences\n",
      "Length 73: 152 occurrences\n",
      "Length 74: 160 occurrences\n",
      "Length 75: 149 occurrences\n",
      "Length 76: 145 occurrences\n",
      "Length 77: 150 occurrences\n",
      "Length 78: 113 occurrences\n",
      "Length 79: 118 occurrences\n",
      "Length 80: 117 occurrences\n",
      "Length 81: 116 occurrences\n",
      "Length 82: 120 occurrences\n",
      "Length 83: 118 occurrences\n",
      "Length 84: 114 occurrences\n",
      "Length 85: 109 occurrences\n",
      "Length 86: 99 occurrences\n",
      "Length 87: 99 occurrences\n",
      "Length 88: 117 occurrences\n",
      "Length 89: 116 occurrences\n",
      "Length 90: 106 occurrences\n",
      "Length 91: 113 occurrences\n",
      "Length 92: 91 occurrences\n",
      "Length 93: 97 occurrences\n",
      "Length 94: 103 occurrences\n",
      "Length 95: 82 occurrences\n",
      "Length 96: 86 occurrences\n",
      "Length 97: 92 occurrences\n",
      "Length 98: 103 occurrences\n",
      "Length 99: 89 occurrences\n",
      "Length 100: 84 occurrences\n",
      "Length 101: 92 occurrences\n",
      "Length 102: 101 occurrences\n",
      "Length 103: 74 occurrences\n",
      "Length 104: 80 occurrences\n",
      "Length 105: 68 occurrences\n",
      "Length 106: 69 occurrences\n",
      "Length 107: 68 occurrences\n",
      "Length 108: 66 occurrences\n",
      "Length 109: 65 occurrences\n",
      "Length 110: 74 occurrences\n",
      "Length 111: 73 occurrences\n",
      "Length 112: 77 occurrences\n",
      "Length 113: 56 occurrences\n",
      "Length 114: 58 occurrences\n",
      "Length 115: 69 occurrences\n",
      "Length 116: 61 occurrences\n",
      "Length 117: 65 occurrences\n",
      "Length 118: 97 occurrences\n",
      "Length 119: 60 occurrences\n",
      "Length 121: 51 occurrences\n",
      "Length 124: 54 occurrences\n",
      "Length 127: 52 occurrences\n",
      "Length 128: 55 occurrences\n",
      "Length 136: 54 occurrences\n",
      "Length 142: 53 occurrences\n"
     ]
    }
   ],
   "source": [
    "# Extract output strings and calculate their lengths\n",
    "output_lengths = [len(item['output']) for item in data]\n",
    "\n",
    "# Calculate distribution using Counter\n",
    "length_distribution = Counter(output_lengths)\n",
    "\n",
    "# Print distribution\n",
    "print(\"Output String Length Distribution:\")\n",
    "for length, count in sorted(length_distribution.items()):\n",
    "    print(f\"Length {length}: {count} occurrences\")"
   ]
  },
  {
   "cell_type": "code",
   "execution_count": 11,
   "metadata": {},
   "outputs": [
    {
     "data": {
      "image/png": "[encoded data removed]",
      "text/plain": [
       "<Figure size 640x480 with 1 Axes>"
      ]
     },
     "metadata": {},
     "output_type": "display_data"
    }
   ],
   "source": [
    "# Plot the distribution\n",
    "plt.bar(length_distribution.keys(), length_distribution.values())\n",
    "plt.xlabel('String Length')\n",
    "plt.ylabel('Frequency')\n",
    "plt.title('Distribution of Output String Lengths')\n",
    "plt.show()"
   ]
  }
 ],
 "metadata": {
  "kernelspec": {
   "display_name": ".uvenv",
   "language": "python",
   "name": "python3"
  },
  "language_info": {
   "codemirror_mode": {
    "name": "ipython",
    "version": 3
   },
   "file_extension": ".py",
   "mimetype": "text/x-python",
   "name": "python",
   "nbconvert_exporter": "python",
   "pygments_lexer": "ipython3",
   "version": "3.12.3"
  }
 },
 "nbformat": 4,
 "nbformat_minor": 2
}
