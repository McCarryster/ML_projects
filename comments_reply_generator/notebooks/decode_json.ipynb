{
 "cells": [
  {
   "cell_type": "code",
   "execution_count": 2,
   "metadata": {},
   "outputs": [],
   "source": [
    "unicode_string = r\"\\u0432 \\u0447\\u0435\\u043c \\u0441\\u0443\\u0442\\u044c? \\u043e\\u0431\\u044b\\u0447\\u043d\\u043e \\u0441\\u0447\\u0438\\u0442\\u044b\\u0432\\u0430\\u0435\\u0448\\u044c \\u043a\\u043e\\u0434 \\u0438\\u0437 \\u0441\\u0432\\u043e\\u0435\\u0433\\u043e \\u0430\\u043a\\u043a\\u0430 \\u0438 \\u0430\\u0432\\u0442\\u043e\\u0440\\u0437\\u0443\\u0435\\u0448\\u044c\\u0441\\u044f \\u043d\\u0430 \\u043d\\u043e\\u0432\\u043e\\u043c \\u0443\\u0441\\u0442\\u0440\\u043e\\u0439\\u0441\\u0442\\u0432\\u0435 ...\""
   ]
  },
  {
   "cell_type": "code",
   "execution_count": 3,
   "metadata": {},
   "outputs": [
    {
     "name": "stdout",
     "output_type": "stream",
     "text": [
      "в чем суть? обычно считываешь код из своего акка и авторзуешься на новом устройстве ...\n"
     ]
    }
   ],
   "source": [
    "# Decode using unicode_escape\n",
    "decoded_string = unicode_string.encode().decode('unicode_escape')\n",
    "# Print the decoded string\n",
    "print(decoded_string)"
   ]
  },
  {
   "cell_type": "code",
   "execution_count": 4,
   "metadata": {},
   "outputs": [
    {
     "name": "stdout",
     "output_type": "stream",
     "text": [
      "b''\n"
     ]
    }
   ],
   "source": [
    "encode = \"\"\n",
    "encode_string = encode.encode('unicode_escape')\n",
    "print(encode_string)"
   ]
  }
 ],
 "metadata": {
  "kernelspec": {
   "display_name": ".uvenv",
   "language": "python",
   "name": "python3"
  },
  "language_info": {
   "codemirror_mode": {
    "name": "ipython",
    "version": 3
   },
   "file_extension": ".py",
   "mimetype": "text/x-python",
   "name": "python",
   "nbconvert_exporter": "python",
   "pygments_lexer": "ipython3",
   "version": "3.12.3"
  }
 },
 "nbformat": 4,
 "nbformat_minor": 2
}
