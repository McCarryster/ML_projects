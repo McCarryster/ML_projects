{
 "cells": [
  {
   "cell_type": "code",
   "execution_count": 1,
   "metadata": {},
   "outputs": [],
   "source": [
    "import pandas as pd\n",
    "from concater import concat_reduced_chunks"
   ]
  },
  {
   "cell_type": "code",
   "execution_count": 2,
   "metadata": {},
   "outputs": [],
   "source": [
    "df1 = pd.read_csv('./pca_data/reduced_df_1.csv')\n",
    "df2 = pd.read_csv('./pca_data/reduced_df_2.csv')\n",
    "final_df = concat_reduced_chunks(df1, df2)\n",
    "final_df.to_csv('final_fin_df.csv', index=False)"
   ]
  },
  {
   "cell_type": "code",
   "execution_count": 3,
   "metadata": {},
   "outputs": [],
   "source": [
    "paths = [\n",
    "    './pca_data/reduced_df_3.csv',\n",
    "    './pca_data/reduced_df_4.csv',\n",
    "    './pca_data/reduced_df_5.csv',\n",
    "    './pca_data/reduced_df_6.csv',\n",
    "    './pca_data/reduced_df_7.csv',\n",
    "    './pca_data/reduced_df_8.csv',\n",
    "    './pca_data/reduced_df_9.csv',\n",
    "    './pca_data/reduced_df_10.csv',\n",
    "]"
   ]
  },
  {
   "cell_type": "code",
   "execution_count": 4,
   "metadata": {},
   "outputs": [
    {
     "name": "stdout",
     "output_type": "stream",
     "text": [
      "Reading... 1\n",
      "Concatenating...\n",
      "Saving... 1\n",
      "7 left...\n",
      "--------------------------------------------------\n",
      "Reading... 2\n",
      "Concatenating...\n",
      "Saving... 2\n",
      "6 left...\n",
      "--------------------------------------------------\n",
      "Reading... 3\n",
      "Concatenating...\n",
      "Saving... 3\n",
      "5 left...\n",
      "--------------------------------------------------\n",
      "Reading... 4\n",
      "Concatenating...\n",
      "Saving... 4\n",
      "4 left...\n",
      "--------------------------------------------------\n",
      "Reading... 5\n",
      "Concatenating...\n",
      "Saving... 5\n",
      "3 left...\n",
      "--------------------------------------------------\n",
      "Reading... 6\n",
      "Concatenating...\n",
      "Saving... 6\n",
      "2 left...\n",
      "--------------------------------------------------\n",
      "Reading... 7\n",
      "Concatenating...\n",
      "Saving... 7\n",
      "1 left...\n",
      "--------------------------------------------------\n",
      "Reading... 8\n",
      "Concatenating...\n",
      "Saving... 8\n",
      "0 left...\n",
      "--------------------------------------------------\n"
     ]
    }
   ],
   "source": [
    "for i, path in enumerate(paths):\n",
    "    # Read data\n",
    "    print('Reading...', i+1)\n",
    "    df1 = pd.read_csv('./final_fin_df.csv')\n",
    "    df2 = pd.read_csv(path)\n",
    "\n",
    "    # Concat\n",
    "    print('Concatenating...')\n",
    "    final_df = concat_reduced_chunks(df1, df2)\n",
    "\n",
    "    print('Saving...', i+1)\n",
    "    # Save as csv\n",
    "    final_df.to_csv('final_fin_df.csv', index=False)\n",
    "    print(f'{len(paths)-(i+1)} left...')\n",
    "    print('-'*50)"
   ]
  }
 ],
 "metadata": {
  "kernelspec": {
   "display_name": "base",
   "language": "python",
   "name": "python3"
  },
  "language_info": {
   "codemirror_mode": {
    "name": "ipython",
    "version": 3
   },
   "file_extension": ".py",
   "mimetype": "text/x-python",
   "name": "python",
   "nbconvert_exporter": "python",
   "pygments_lexer": "ipython3",
   "version": "3.11.7"
  }
 },
 "nbformat": 4,
 "nbformat_minor": 2
}
