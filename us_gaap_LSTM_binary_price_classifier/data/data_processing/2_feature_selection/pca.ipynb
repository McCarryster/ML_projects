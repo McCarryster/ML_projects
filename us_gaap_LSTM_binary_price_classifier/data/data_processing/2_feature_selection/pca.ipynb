{
 "cells": [
  {
   "cell_type": "code",
   "execution_count": 1,
   "metadata": {},
   "outputs": [],
   "source": [
    "from pca_fs import select_with_pca\n",
    "import pandas as pd"
   ]
  },
  {
   "cell_type": "code",
   "execution_count": 2,
   "metadata": {},
   "outputs": [],
   "source": [
    "paths = [\n",
    "    '../../../ML_projects/us_gaap_LSTM_binary_price_classifier/data/binary_class_chunk_1.csv',\n",
    "    '../../../ML_projects/us_gaap_LSTM_binary_price_classifier/data/binary_class_chunk_2.csv',\n",
    "    '../../../ML_projects/us_gaap_LSTM_binary_price_classifier/data/binary_class_chunk_3.csv',\n",
    "    '../../../ML_projects/us_gaap_LSTM_binary_price_classifier/data/binary_class_chunk_4.csv',\n",
    "    '../../../ML_projects/us_gaap_LSTM_binary_price_classifier/data/binary_class_chunk_5.csv',\n",
    "    '../../../ML_projects/us_gaap_LSTM_binary_price_classifier/data/binary_class_chunk_6.csv',\n",
    "    '../../../ML_projects/us_gaap_LSTM_binary_price_classifier/data/binary_class_chunk_7.csv',\n",
    "    '../../../ML_projects/us_gaap_LSTM_binary_price_classifier/data/binary_class_chunk_8.csv',\n",
    "    '../../../ML_projects/us_gaap_LSTM_binary_price_classifier/data/binary_class_chunk_9.csv',\n",
    "    '../../../ML_projects/us_gaap_LSTM_binary_price_classifier/data/binary_class_chunk_10.csv',\n",
    "]"
   ]
  },
  {
   "cell_type": "code",
   "execution_count": 3,
   "metadata": {},
   "outputs": [
    {
     "name": "stdout",
     "output_type": "stream",
     "text": [
      "Reading 1 file...\n",
      "PCA process...\n",
      "num_components = 358\n",
      "Concatenating...\n",
      "Saving as csv...\n",
      "--------------------------------------------------\n",
      "Reading 2 file...\n",
      "PCA process...\n",
      "num_components = 441\n",
      "Concatenating...\n",
      "Saving as csv...\n",
      "--------------------------------------------------\n",
      "Reading 3 file...\n",
      "PCA process...\n",
      "num_components = 420\n",
      "Concatenating...\n",
      "Saving as csv...\n",
      "--------------------------------------------------\n",
      "Reading 4 file...\n",
      "PCA process...\n",
      "num_components = 382\n",
      "Concatenating...\n",
      "Saving as csv...\n",
      "--------------------------------------------------\n",
      "Reading 5 file...\n",
      "PCA process...\n",
      "num_components = 356\n",
      "Concatenating...\n",
      "Saving as csv...\n",
      "--------------------------------------------------\n",
      "Reading 6 file...\n",
      "PCA process...\n",
      "num_components = 374\n",
      "Concatenating...\n",
      "Saving as csv...\n",
      "--------------------------------------------------\n",
      "Reading 7 file...\n",
      "PCA process...\n",
      "num_components = 418\n",
      "Concatenating...\n",
      "Saving as csv...\n",
      "--------------------------------------------------\n",
      "Reading 8 file...\n",
      "PCA process...\n",
      "num_components = 407\n",
      "Concatenating...\n",
      "Saving as csv...\n",
      "--------------------------------------------------\n",
      "Reading 9 file...\n",
      "PCA process...\n",
      "num_components = 158\n",
      "Concatenating...\n",
      "Saving as csv...\n",
      "--------------------------------------------------\n",
      "Reading 10 file...\n",
      "PCA process...\n",
      "num_components = 218\n",
      "Concatenating...\n",
      "Saving as csv...\n",
      "--------------------------------------------------\n"
     ]
    }
   ],
   "source": [
    "for i, path in enumerate(paths):\n",
    "    # Read file\n",
    "    print(f'Reading {i+1} file...')\n",
    "    data = pd.read_csv(path)\n",
    "\n",
    "    # Extract basic_info, features, prev_prices_targets\n",
    "    basic_info = data.iloc[:, :6]\n",
    "    features = data.iloc[:, 6:-72]\n",
    "    prev_prices_targets = data.iloc[:, -72:]\n",
    "\n",
    "    # Do PCA\n",
    "    print('PCA process...')\n",
    "    features_reduced = select_with_pca(features, threshold=0.65)\n",
    "\n",
    "    # Concat and save as csv\n",
    "    print('Concatenating...')\n",
    "    reduced_df = pd.concat([basic_info, features_reduced, prev_prices_targets], axis=1)\n",
    "    print('Saving as csv...')\n",
    "    reduced_df.to_csv(f'../data_concat/pca_data/reduced_df_{i+1}.csv', index=False)\n",
    "    print('-'*50)"
   ]
  }
 ],
 "metadata": {
  "kernelspec": {
   "display_name": "base",
   "language": "python",
   "name": "python3"
  },
  "language_info": {
   "codemirror_mode": {
    "name": "ipython",
    "version": 3
   },
   "file_extension": ".py",
   "mimetype": "text/x-python",
   "name": "python",
   "nbconvert_exporter": "python",
   "pygments_lexer": "ipython3",
   "version": "3.11.7"
  }
 },
 "nbformat": 4,
 "nbformat_minor": 2
}
