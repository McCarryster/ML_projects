{
 "cells": [
  {
   "cell_type": "code",
   "execution_count": 1,
   "metadata": {},
   "outputs": [],
   "source": [
    "from fin_data_preparation_clean import *\n",
    "import pandas as pd"
   ]
  },
  {
   "cell_type": "code",
   "execution_count": 4,
   "metadata": {},
   "outputs": [
    {
     "name": "stdout",
     "output_type": "stream",
     "text": [
      "working on: 1 chunk\n",
      "sving: 1 chunk\n",
      "working on: 2 chunk\n",
      "sving: 2 chunk\n",
      "working on: 3 chunk\n",
      "sving: 3 chunk\n",
      "working on: 4 chunk\n",
      "sving: 4 chunk\n",
      "working on: 5 chunk\n",
      "sving: 5 chunk\n",
      "working on: 6 chunk\n",
      "sving: 6 chunk\n",
      "working on: 7 chunk\n",
      "sving: 7 chunk\n",
      "working on: 8 chunk\n",
      "sving: 8 chunk\n",
      "working on: 9 chunk\n",
      "sving: 9 chunk\n",
      "working on: 10 chunk\n",
      "sving: 10 chunk\n"
     ]
    }
   ],
   "source": [
    "# Paths for unprepared data\n",
    "paths = [\n",
    "    '../remake_project/data/medium_chunks/combined_medium_cleanChunk_1.csv',\n",
    "    '../remake_project/data/medium_chunks/combined_medium_cleanChunk_2.csv',\n",
    "    '../remake_project/data/medium_chunks/combined_medium_cleanChunk_3.csv',\n",
    "    '../remake_project/data/medium_chunks/combined_medium_cleanChunk_4.csv',\n",
    "    '../remake_project/data/medium_chunks/combined_medium_cleanChunk_5.csv',\n",
    "    '../remake_project/data/medium_chunks/combined_medium_cleanChunk_6.csv',\n",
    "    '../remake_project/data/medium_chunks/combined_medium_cleanChunk_7.csv',\n",
    "    '../remake_project/data/medium_chunks/combined_medium_cleanChunk_8.csv',\n",
    "    '../remake_project/data/medium_chunks/combined_medium_cleanChunk_9.csv',\n",
    "    '../remake_project/data/medium_chunks/combined_medium_cleanChunk_10.csv'\n",
    "]\n",
    "\n",
    "# Loop to prepare data for ML model\n",
    "\n",
    "for i, path in enumerate(paths):\n",
    "    print(f'working on: {i+1} chunk')\n",
    "    fin_df = pd.read_csv(path)\n",
    "\n",
    "    # Remove old indexes\n",
    "    fin_df = fin_df.iloc[:, 3:]\n",
    "    # Rename column\n",
    "    fin_df = fin_df.rename(columns={'Avg Price': 'Avg_Price'})\n",
    "\n",
    "    done_df = prepare_for_binary(fin_df)\n",
    "    print(f'sving: {i+1} chunk')\n",
    "    done_df.to_csv(f'../../../ML_projects/us_gaap_LSTM_binary_price_classifier/data/binary_class_chunk_{i+1}.csv', index=False)"
   ]
  }
 ],
 "metadata": {
  "kernelspec": {
   "display_name": "base",
   "language": "python",
   "name": "python3"
  },
  "language_info": {
   "codemirror_mode": {
    "name": "ipython",
    "version": 3
   },
   "file_extension": ".py",
   "mimetype": "text/x-python",
   "name": "python",
   "nbconvert_exporter": "python",
   "pygments_lexer": "ipython3",
   "version": "3.11.7"
  }
 },
 "nbformat": 4,
 "nbformat_minor": 2
}
