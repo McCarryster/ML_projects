{
 "cells": [
  {
   "cell_type": "code",
   "execution_count": 19,
   "metadata": {},
   "outputs": [],
   "source": [
    "import os\n",
    "import numpy as np\n",
    "import pydicom\n",
    "import cv2\n",
    "import matplotlib.pyplot as plt\n",
    "import pandas as pd"
   ]
  },
  {
   "cell_type": "code",
   "execution_count": 2,
   "metadata": {},
   "outputs": [],
   "source": [
    "def resize_image(image_path):\n",
    "    dicom = pydicom.dcmread(image_path)\n",
    "\n",
    "    # Convert the DCM image to a numpy array\n",
    "    image_array = dicom.pixel_array\n",
    "\n",
    "    # Resize the image using OpenCV\n",
    "    resized_image = cv2.resize(image_array, (224, 224))\n",
    "\n",
    "    return resized_image"
   ]
  },
  {
   "cell_type": "code",
   "execution_count": 3,
   "metadata": {},
   "outputs": [
    {
     "name": "stdout",
     "output_type": "stream",
     "text": [
      "142859125 (8064, 224)\n",
      "2073726394 (10304, 224)\n",
      "2399638375 (4256, 224)\n",
      "3491739931 (4256, 224)\n",
      "1224932122 (10080, 224)\n",
      "2231042680 (4032, 224)\n",
      "3543553307 (4032, 224)\n",
      "1212326388 (3360, 224)\n",
      "1638921810 (3360, 224)\n",
      "3800798510 (6048, 224)\n",
      "403244853 (6272, 224)\n",
      "1539051863 (3808, 224)\n",
      "2500166693 (6048, 224)\n",
      "2677627096 (3808, 224)\n",
      "3687121182 (12992, 224)\n",
      "3753885158 (4032, 224)\n",
      "434280813 (4032, 224)\n",
      "1679014482 (10080, 224)\n",
      "226564374 (3808, 224)\n",
      "2528347280 (3808, 224)\n",
      "307069509 (5600, 224)\n",
      "1152175603 (5152, 224)\n",
      "1676821058 (5152, 224)\n",
      "2261718442 (6720, 224)\n",
      "231278500 (8960, 224)\n",
      "1379151387 (3360, 224)\n",
      "1847558962 (4928, 224)\n",
      "758801267 (3360, 224)\n",
      "1054713880 (3360, 224)\n",
      "2448190387 (9632, 224)\n",
      "702807833 (3360, 224)\n",
      "3201256954 (12096, 224)\n",
      "3486248476 (3808, 224)\n",
      "3666319702 (3808, 224)\n",
      "132939515 (3808, 224)\n",
      "1951927562 (5152, 224)\n",
      "3219733239 (3808, 224)\n",
      "1570286759 (3360, 224)\n",
      "2406919186 (4704, 224)\n",
      "481125819 (3360, 224)\n"
     ]
    }
   ],
   "source": [
    "# Specify the path to the main directory containing patient folders\n",
    "main_directory = './small_train_images'\n",
    "\n",
    "# Dictionary to store image data\n",
    "image_data = {}\n",
    "\n",
    "# Iterate over study_id folders\n",
    "for study_id in os.listdir(main_directory):\n",
    "    study_id_dir = os.listdir(f'./small_train_images/{study_id}')\n",
    "    \n",
    "    # Iterate over series folders for each patient\n",
    "    for series_id in study_id_dir:\n",
    "        series_id_dir = os.listdir(f'./small_train_images/{study_id}/{series_id}')\n",
    "        # Initialize list to store image arrays for the series\n",
    "        image_arrays = []\n",
    "        \n",
    "        # Iterate over DICOM files in the series folder\n",
    "        for instance in series_id_dir:\n",
    "            image_path = f'./small_train_images/{study_id}/{series_id}/{instance}'\n",
    "            resized_image = resize_image(image_path)\n",
    "\n",
    "            # Append resized_image array to the list\n",
    "            image_arrays.append(resized_image)\n",
    "        \n",
    "        # Vertically stack DCM images\n",
    "        stacked_images = np.vstack(image_arrays)\n",
    "        # Store stacked images as a NumPy array\n",
    "        np_array = np.array(stacked_images)\n",
    "        print(series_id, np_array.shape)\n",
    "\n",
    "        # Store image arrays in the dictionary with (study_id, series_id) tuple as key\n",
    "        image_data[(study_id, series_id)] = np_array"
   ]
  },
  {
   "cell_type": "code",
   "execution_count": 4,
   "metadata": {},
   "outputs": [
    {
     "name": "stdout",
     "output_type": "stream",
     "text": [
      "Image shape: (3360, 224)\n"
     ]
    }
   ],
   "source": [
    "# Check shapes\n",
    "example_study_id = '4003253'\n",
    "example_series_id = '702807833'\n",
    "if (example_study_id, example_series_id) in image_data:\n",
    "    image = image_data[(example_study_id, example_series_id)]\n",
    "    print(f\"Image shape:\", image.shape)\n",
    "else:\n",
    "    print(\"No images found for the specified (study_id, series_id) tuple.\")"
   ]
  },
  {
   "cell_type": "code",
   "execution_count": 5,
   "metadata": {},
   "outputs": [
    {
     "name": "stdout",
     "output_type": "stream",
     "text": [
      "('10728036', '142859125') (12992, 224)\n",
      "('10728036', '2073726394') (12992, 224)\n",
      "('10728036', '2399638375') (12992, 224)\n",
      "('10728036', '3491739931') (12992, 224)\n",
      "('11340341', '1224932122') (12992, 224)\n",
      "('11340341', '2231042680') (12992, 224)\n",
      "('11340341', '3543553307') (12992, 224)\n",
      "('11943292', '1212326388') (12992, 224)\n",
      "('11943292', '1638921810') (12992, 224)\n",
      "('11943292', '3800798510') (12992, 224)\n",
      "('11943292', '403244853') (12992, 224)\n",
      "('13317052', '1539051863') (12992, 224)\n",
      "('13317052', '2500166693') (12992, 224)\n",
      "('13317052', '2677627096') (12992, 224)\n",
      "('22191399', '3687121182') (12992, 224)\n",
      "('22191399', '3753885158') (12992, 224)\n",
      "('22191399', '434280813') (12992, 224)\n",
      "('26342422', '1679014482') (12992, 224)\n",
      "('26342422', '226564374') (12992, 224)\n",
      "('26342422', '2528347280') (12992, 224)\n",
      "('26342422', '307069509') (12992, 224)\n",
      "('29931867', '1152175603') (12992, 224)\n",
      "('29931867', '1676821058') (12992, 224)\n",
      "('29931867', '2261718442') (12992, 224)\n",
      "('29931867', '231278500') (12992, 224)\n",
      "('33736057', '1379151387') (12992, 224)\n",
      "('33736057', '1847558962') (12992, 224)\n",
      "('33736057', '758801267') (12992, 224)\n",
      "('4003253', '1054713880') (12992, 224)\n",
      "('4003253', '2448190387') (12992, 224)\n",
      "('4003253', '702807833') (12992, 224)\n",
      "('4646740', '3201256954') (12992, 224)\n",
      "('4646740', '3486248476') (12992, 224)\n",
      "('4646740', '3666319702') (12992, 224)\n",
      "('7143189', '132939515') (12992, 224)\n",
      "('7143189', '1951927562') (12992, 224)\n",
      "('7143189', '3219733239') (12992, 224)\n",
      "('8785691', '1570286759') (12992, 224)\n",
      "('8785691', '2406919186') (12992, 224)\n",
      "('8785691', '481125819') (12992, 224)\n"
     ]
    }
   ],
   "source": [
    "# Pad arrays\n",
    "\n",
    "# Find the maximum shape among all numpy arrays\n",
    "max_shape = max([np_array.shape for np_array in image_data.values()], key=lambda x: x[0])\n",
    "\n",
    "for key in image_data:\n",
    "    np_array = image_data[key]\n",
    "    padding = max_shape[0] - np_array.shape[0]\n",
    "    if padding > 0:\n",
    "        padding_shape = ((0, padding), (0, 0))\n",
    "        padded_np_array = np.pad(np_array, padding_shape, mode='constant', constant_values=0) # 0 is black (If I'm not mistaken)\n",
    "        image_data[key] = padded_np_array\n",
    "\n",
    "# Print the shapes of padded numpy arrays\n",
    "for key in image_data:\n",
    "    print(key, image_data[key].shape)"
   ]
  },
  {
   "cell_type": "code",
   "execution_count": 6,
   "metadata": {},
   "outputs": [
    {
     "name": "stdout",
     "output_type": "stream",
     "text": [
      "Stacked arrays for key 10728036: (4, 12992, 224)\n",
      "Stacked arrays for key 11340341: (3, 12992, 224)\n",
      "Stacked arrays for key 11943292: (4, 12992, 224)\n",
      "Stacked arrays for key 13317052: (3, 12992, 224)\n",
      "Stacked arrays for key 22191399: (3, 12992, 224)\n",
      "Stacked arrays for key 26342422: (4, 12992, 224)\n",
      "Stacked arrays for key 29931867: (4, 12992, 224)\n",
      "Stacked arrays for key 33736057: (3, 12992, 224)\n",
      "Stacked arrays for key 4003253: (3, 12992, 224)\n",
      "Stacked arrays for key 4646740: (3, 12992, 224)\n",
      "Stacked arrays for key 7143189: (3, 12992, 224)\n",
      "Stacked arrays for key 8785691: (3, 12992, 224)\n"
     ]
    }
   ],
   "source": [
    "# Make 3D arrays\n",
    "\n",
    "# Group arrays by the first tuple values\n",
    "grouped_arrays = {}\n",
    "for key, value in image_data.items():\n",
    "    if key[0] not in grouped_arrays:\n",
    "        grouped_arrays[key[0]] = [value]\n",
    "    else:\n",
    "        grouped_arrays[key[0]].append(value)\n",
    "\n",
    "# Stack arrays with the same first tuple values into a 3D array\n",
    "stacked_arrays = {}\n",
    "for key, values in grouped_arrays.items():\n",
    "    stacked_arrays[key] = np.stack(values, axis=0)\n",
    "\n",
    "# Check the stacked arrays\n",
    "for key, value in stacked_arrays.items():\n",
    "    print(f\"Stacked arrays for key {key}: {value.shape}\")"
   ]
  },
  {
   "cell_type": "code",
   "execution_count": 7,
   "metadata": {},
   "outputs": [],
   "source": [
    "import torch\n",
    "from torch.utils.data import Dataset, DataLoader\n",
    "\n",
    "\n",
    "# Convert dictionary into a list of tuples\n",
    "data_list = [(key, stacked_arrays[key]) for key in stacked_arrays]\n",
    "\n",
    "# Custom dataset class\n",
    "class CustomDataset(Dataset):\n",
    "    def __init__(self, data_list):\n",
    "        self.data_list = data_list\n",
    "\n",
    "    def __len__(self):\n",
    "        return len(self.data_list)\n",
    "\n",
    "    def __getitem__(self, idx):\n",
    "        key, data = self.data_list[idx]\n",
    "        data_np = data.numpy() if isinstance(data, torch.Tensor) else data\n",
    "        return torch.from_numpy(data_np).float(), key\n",
    "\n",
    "# Create dataset and dataloader\n",
    "dataset = CustomDataset(data_list)\n",
    "dataloader = DataLoader(dataset, batch_size=1, shuffle=True)"
   ]
  },
  {
   "cell_type": "code",
   "execution_count": 8,
   "metadata": {},
   "outputs": [
    {
     "name": "stdout",
     "output_type": "stream",
     "text": [
      "torch.Size([1, 3, 12992, 224])\n",
      "torch.Size([1, 3, 12992, 224])\n",
      "torch.Size([1, 3, 12992, 224])\n",
      "torch.Size([1, 3, 12992, 224])\n",
      "torch.Size([1, 4, 12992, 224])\n",
      "torch.Size([1, 3, 12992, 224])\n",
      "torch.Size([1, 3, 12992, 224])\n",
      "torch.Size([1, 3, 12992, 224])\n",
      "torch.Size([1, 4, 12992, 224])\n",
      "torch.Size([1, 3, 12992, 224])\n",
      "torch.Size([1, 4, 12992, 224])\n",
      "torch.Size([1, 4, 12992, 224])\n"
     ]
    }
   ],
   "source": [
    "# Check DataLoader batches\n",
    "for data, key in dataloader:\n",
    "    print(data.shape)"
   ]
  },
  {
   "cell_type": "code",
   "execution_count": 16,
   "metadata": {},
   "outputs": [
    {
     "name": "stdout",
     "output_type": "stream",
     "text": [
      "Original target shape: (1, 25)\n",
      "Reshaped target shape: (25, 3)\n"
     ]
    }
   ],
   "source": [
    "# Assuming your original target array has shape (1, 25)\n",
    "original_targets = np.random.randint(0, 2, size=(1, 25))  # Example random target array\n",
    "\n",
    "# Reshape the original target array to match the desired output shape (25, 3)\n",
    "reshaped_targets = np.eye(3)[original_targets.flatten()].reshape(-1, 3)\n",
    "\n",
    "print(\"Original target shape:\", original_targets.shape)\n",
    "print(\"Reshaped target shape:\", reshaped_targets.shape)"
   ]
  },
  {
   "cell_type": "code",
   "execution_count": 33,
   "metadata": {},
   "outputs": [],
   "source": [
    "# target_df = pd.read_csv('./train.csv')\n",
    "# target_arr = np.array(target_df.iloc[0])"
   ]
  },
  {
   "cell_type": "code",
   "execution_count": 26,
   "metadata": {},
   "outputs": [
    {
     "data": {
      "text/plain": [
       "(1, 26)"
      ]
     },
     "execution_count": 26,
     "metadata": {},
     "output_type": "execute_result"
    }
   ],
   "source": [
    "target_arr = np.array([[1, 1, 1, 1, 1, 1, 1, 1, 1, 2, 1, 1, 1, 2, 2, 1, 1, 1, 1, 2, 1, 1, 1, 1, 1, 1]])\n",
    "target_arr.shape"
   ]
  },
  {
   "cell_type": "code",
   "execution_count": 29,
   "metadata": {},
   "outputs": [
    {
     "name": "stdout",
     "output_type": "stream",
     "text": [
      "Original target shape: (1, 26)\n",
      "Reshaped target shape: (26, 3)\n"
     ]
    }
   ],
   "source": [
    "# Original target array\n",
    "target_arr = np.array([[1, 1, 1, 1, 3, 1, 1, 1, 3, 2, 1, 1, 1, 2, 2, 1, 3, 1, 1, 2, 1, 1, 1, 1, 1, 1]])\n",
    "\n",
    "# Convert the target array to one-hot encoding with three classes\n",
    "num_classes = 3\n",
    "one_hot_targets = np.eye(num_classes)[target_arr.flatten() - 1]  # Subtracting 1 to make classes start from 0\n",
    "\n",
    "# Reshape the one-hot encoded target array to match the desired output shape (25, 3)\n",
    "reshaped_targets = one_hot_targets.reshape(-1, num_classes)\n",
    "\n",
    "print(\"Original target shape:\", target_arr.shape)\n",
    "print(\"Reshaped target shape:\", reshaped_targets.shape)"
   ]
  },
  {
   "cell_type": "code",
   "execution_count": 30,
   "metadata": {},
   "outputs": [
    {
     "data": {
      "text/plain": [
       "array([[1., 0., 0.],\n",
       "       [1., 0., 0.],\n",
       "       [1., 0., 0.],\n",
       "       [1., 0., 0.],\n",
       "       [0., 0., 1.],\n",
       "       [1., 0., 0.],\n",
       "       [1., 0., 0.],\n",
       "       [1., 0., 0.],\n",
       "       [0., 0., 1.],\n",
       "       [0., 1., 0.],\n",
       "       [1., 0., 0.],\n",
       "       [1., 0., 0.],\n",
       "       [1., 0., 0.],\n",
       "       [0., 1., 0.],\n",
       "       [0., 1., 0.],\n",
       "       [1., 0., 0.],\n",
       "       [0., 0., 1.],\n",
       "       [1., 0., 0.],\n",
       "       [1., 0., 0.],\n",
       "       [0., 1., 0.],\n",
       "       [1., 0., 0.],\n",
       "       [1., 0., 0.],\n",
       "       [1., 0., 0.],\n",
       "       [1., 0., 0.],\n",
       "       [1., 0., 0.],\n",
       "       [1., 0., 0.]])"
      ]
     },
     "execution_count": 30,
     "metadata": {},
     "output_type": "execute_result"
    }
   ],
   "source": [
    "reshaped_targets"
   ]
  }
 ],
 "metadata": {
  "kernelspec": {
   "display_name": ".venv",
   "language": "python",
   "name": "python3"
  },
  "language_info": {
   "codemirror_mode": {
    "name": "ipython",
    "version": 3
   },
   "file_extension": ".py",
   "mimetype": "text/x-python",
   "name": "python",
   "nbconvert_exporter": "python",
   "pygments_lexer": "ipython3",
   "version": "3.12.0"
  }
 },
 "nbformat": 4,
 "nbformat_minor": 2
}
