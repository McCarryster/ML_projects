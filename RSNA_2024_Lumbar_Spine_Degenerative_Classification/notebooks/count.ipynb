{
 "cells": [
  {
   "cell_type": "code",
   "execution_count": 1,
   "metadata": {},
   "outputs": [],
   "source": [
    "import pandas as pd\n",
    "import os\n",
    "import matplotlib.pyplot as plt\n",
    "import pydicom\n",
    "import numpy as np"
   ]
  },
  {
   "cell_type": "code",
   "execution_count": 23,
   "metadata": {},
   "outputs": [
    {
     "ename": "FileNotFoundError",
     "evalue": "[WinError 3] The system cannot find the path specified: '100206310'",
     "output_type": "error",
     "traceback": [
      "\u001b[1;31m---------------------------------------------------------------------------\u001b[0m",
      "\u001b[1;31mFileNotFoundError\u001b[0m                         Traceback (most recent call last)",
      "Cell \u001b[1;32mIn[23], line 8\u001b[0m\n\u001b[0;32m      5\u001b[0m image_counts \u001b[38;5;241m=\u001b[39m {}\n\u001b[0;32m      6\u001b[0m \u001b[38;5;28;01mfor\u001b[39;00m study_id \u001b[38;5;129;01min\u001b[39;00m os\u001b[38;5;241m.\u001b[39mlistdir(root_folder):\n\u001b[0;32m      7\u001b[0m     \u001b[38;5;66;03m# study_id_counts[study_id] = len([name for name in os.listdir(study_id) if os.path.isfile(os.path.join(study_id, name))])\u001b[39;00m\n\u001b[1;32m----> 8\u001b[0m     study_id_counts[study_id] \u001b[38;5;241m=\u001b[39m \u001b[38;5;28mlen\u001b[39m([name \u001b[38;5;28;01mfor\u001b[39;00m name \u001b[38;5;129;01min\u001b[39;00m \u001b[43mos\u001b[49m\u001b[38;5;241;43m.\u001b[39;49m\u001b[43mlistdir\u001b[49m\u001b[43m(\u001b[49m\u001b[43mstudy_id\u001b[49m\u001b[43m)\u001b[49m \u001b[38;5;28;01mif\u001b[39;00m os\u001b[38;5;241m.\u001b[39mpath\u001b[38;5;241m.\u001b[39misdir(os\u001b[38;5;241m.\u001b[39mpath\u001b[38;5;241m.\u001b[39mjoin(study_id, name))])\n\u001b[0;32m      9\u001b[0m     \u001b[38;5;28mprint\u001b[39m(study_id)\n\u001b[0;32m     10\u001b[0m     \u001b[38;5;66;03m# for series_id in os.listdir(f'{root_folder}/{study_id}'):\u001b[39;00m\n\u001b[0;32m     11\u001b[0m     \u001b[38;5;66;03m#     for file in os.listdir(f'{root_folder}/{study_id}/{series_id}'):\u001b[39;00m\n\u001b[0;32m     12\u001b[0m     \u001b[38;5;66;03m#         image_counts[file] = len([name for name in os.listdir(file) if os.path.isfile(os.path.join(file, name))])\u001b[39;00m\n\u001b[0;32m     13\u001b[0m \n\u001b[0;32m     14\u001b[0m \u001b[38;5;66;03m# df = pd.DataFrame(list(study_id_counts.items()), columns=['Directory', 'File Count'])\u001b[39;00m\n\u001b[0;32m     15\u001b[0m \u001b[38;5;66;03m# df\u001b[39;00m\n",
      "\u001b[1;31mFileNotFoundError\u001b[0m: [WinError 3] The system cannot find the path specified: '100206310'"
     ]
    }
   ],
   "source": [
    "# Define the root folder\n",
    "root_folder = './train_images'\n",
    "\n",
    "study_id_counts = {}\n",
    "image_counts = {}\n",
    "for study_id in os.listdir(root_folder):\n",
    "    # study_id_counts[study_id] = len([name for name in os.listdir(study_id) if os.path.isfile(os.path.join(study_id, name))])\n",
    "    study_id_counts[study_id] = len([name for name in os.listdir(f'{root_folder}/') if os.path.isdir(os.path.join(study_id, name))])\n",
    "    print(study_id)\n",
    "    # for series_id in os.listdir(f'{root_folder}/{study_id}'):\n",
    "    #     for file in os.listdir(f'{root_folder}/{study_id}/{series_id}'):\n",
    "    #         image_counts[file] = len([name for name in os.listdir(file) if os.path.isfile(os.path.join(file, name))])\n",
    "\n",
    "# df = pd.DataFrame(list(study_id_counts.items()), columns=['Directory', 'File Count'])\n",
    "# df"
   ]
  },
  {
   "cell_type": "code",
   "execution_count": 21,
   "metadata": {},
   "outputs": [
    {
     "data": {
      "text/html": [
       "<div>\n",
       "<style scoped>\n",
       "    .dataframe tbody tr th:only-of-type {\n",
       "        vertical-align: middle;\n",
       "    }\n",
       "\n",
       "    .dataframe tbody tr th {\n",
       "        vertical-align: top;\n",
       "    }\n",
       "\n",
       "    .dataframe thead th {\n",
       "        text-align: right;\n",
       "    }\n",
       "</style>\n",
       "<table border=\"1\" class=\"dataframe\">\n",
       "  <thead>\n",
       "    <tr style=\"text-align: right;\">\n",
       "      <th></th>\n",
       "      <th>Directory</th>\n",
       "      <th>Folder Count</th>\n",
       "    </tr>\n",
       "  </thead>\n",
       "  <tbody>\n",
       "    <tr>\n",
       "      <th>0</th>\n",
       "      <td>./train_images/4003253</td>\n",
       "      <td>3</td>\n",
       "    </tr>\n",
       "    <tr>\n",
       "      <th>1</th>\n",
       "      <td>./train_images/4646740</td>\n",
       "      <td>3</td>\n",
       "    </tr>\n",
       "    <tr>\n",
       "      <th>2</th>\n",
       "      <td>./train_images/100206310</td>\n",
       "      <td>3</td>\n",
       "    </tr>\n",
       "  </tbody>\n",
       "</table>\n",
       "</div>"
      ],
      "text/plain": [
       "                  Directory  Folder Count\n",
       "0    ./train_images/4003253             3\n",
       "1    ./train_images/4646740             3\n",
       "2  ./train_images/100206310             3"
      ]
     },
     "execution_count": 21,
     "metadata": {},
     "output_type": "execute_result"
    }
   ],
   "source": [
    "# Specify the directories you want to count files in\n",
    "directories = ['./train_images/4003253', './train_images/4646740', './train_images/100206310']\n",
    "\n",
    "# Initialize a dictionary to store the file counts\n",
    "file_counts = {}\n",
    "folder_counts = {}\n",
    "# Iterate through the specified directories\n",
    "# for directory in directories:\n",
    "#     file_counts[directory] = len([name for name in os.listdir(directory) if os.path.isfile(os.path.join(directory, name))])\n",
    "for directory in directories:\n",
    "    folder_counts[directory] = len([name for name in os.listdir(directory) if os.path.isdir(os.path.join(directory, name))])\n",
    "\n",
    "# df = pd.DataFrame(list(folder_counts.items()), columns=['Directory', 'Folder Count'])\n",
    "\n",
    "# Create a DataFrame from the file counts dictionary\n",
    "# df = pd.DataFrame(list(file_counts.items()), columns=['Directory', 'File Count'])\n",
    "df = pd.DataFrame(list(folder_counts.items()), columns=['Directory', 'Folder Count'])\n",
    "df"
   ]
  }
 ],
 "metadata": {
  "kernelspec": {
   "display_name": ".venv",
   "language": "python",
   "name": "python3"
  },
  "language_info": {
   "codemirror_mode": {
    "name": "ipython",
    "version": 3
   },
   "file_extension": ".py",
   "mimetype": "text/x-python",
   "name": "python",
   "nbconvert_exporter": "python",
   "pygments_lexer": "ipython3",
   "version": "3.12.0"
  }
 },
 "nbformat": 4,
 "nbformat_minor": 2
}
