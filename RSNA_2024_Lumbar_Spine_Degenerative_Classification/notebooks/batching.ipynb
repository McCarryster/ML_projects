{
 "cells": [
  {
   "cell_type": "code",
   "execution_count": 1,
   "metadata": {},
   "outputs": [],
   "source": [
    "import torch\n",
    "from torch.utils.data import DataLoader, TensorDataset"
   ]
  },
  {
   "cell_type": "code",
   "execution_count": 16,
   "metadata": {},
   "outputs": [],
   "source": [
    "import torch.nn.functional as F"
   ]
  },
  {
   "cell_type": "code",
   "execution_count": 20,
   "metadata": {},
   "outputs": [],
   "source": [
    "# Assume data_dict is a dictionary containing stacked arrays for each key\n",
    "data_dict = {\n",
    "    10728036: torch.randn(4, 12992, 224),\n",
    "    11340341: torch.randn(3, 12992, 224),\n",
    "    11943292: torch.randn(4, 12992, 224),\n",
    "    13317052: torch.randn(3, 12992, 224),\n",
    "    22191399: torch.randn(3, 12992, 224),\n",
    "    26342422: torch.randn(4, 12992, 224),\n",
    "    29931867: torch.randn(4, 12992, 224),\n",
    "    33736057: torch.randn(3, 12992, 224),\n",
    "    4003253: torch.randn(3, 12992, 224),\n",
    "    4646740: torch.randn(3, 12992, 224),\n",
    "    7143189: torch.randn(3, 12992, 224),\n",
    "    8785691: torch.randn(3, 12992, 224)\n",
    "}\n",
    "\n",
    "# Determine the maximum shape\n",
    "max_shape = tuple(max(arr.shape[i] for arr in data_dict.values()) for i in range(3))\n",
    "\n",
    "# Pad each tensor to the maximum shape\n",
    "for key, tensor in data_dict.items():\n",
    "    pad_shape = [max_shape[i] - tensor.shape[i] for i in range(3)]\n",
    "    data_dict[key] = F.pad(tensor, (0, pad_shape[2], 0, pad_shape[1], 0, pad_shape[0]))\n",
    "\n",
    "# for key, tensor in data_dict.items():\n",
    "#     pad_shape = [max_shape[i] - tensor.shape[i] for i in range(3)]\n",
    "#     data_dict[key] = F.pad(tensor, (0, pad_shape[2], 0, pad_shape[1], 0, pad_shape[0]))\n",
    "#     print(f\"Shape of {key} after padding: {data_dict[key].shape}\")"
   ]
  },
  {
   "cell_type": "code",
   "execution_count": 21,
   "metadata": {},
   "outputs": [
    {
     "name": "stdout",
     "output_type": "stream",
     "text": [
      "Key: 10728036, New Shape: torch.Size([4, 12992, 224])\n",
      "Key: 11340341, New Shape: torch.Size([4, 12992, 224])\n",
      "Key: 11943292, New Shape: torch.Size([4, 12992, 224])\n",
      "Key: 13317052, New Shape: torch.Size([4, 12992, 224])\n",
      "Key: 22191399, New Shape: torch.Size([4, 12992, 224])\n",
      "Key: 26342422, New Shape: torch.Size([4, 12992, 224])\n",
      "Key: 29931867, New Shape: torch.Size([4, 12992, 224])\n",
      "Key: 33736057, New Shape: torch.Size([4, 12992, 224])\n",
      "Key: 4003253, New Shape: torch.Size([4, 12992, 224])\n",
      "Key: 4646740, New Shape: torch.Size([4, 12992, 224])\n",
      "Key: 7143189, New Shape: torch.Size([4, 12992, 224])\n",
      "Key: 8785691, New Shape: torch.Size([4, 12992, 224])\n"
     ]
    }
   ],
   "source": [
    "# Step 3: Print the new shapes\n",
    "for key, arr in data_dict.items():\n",
    "    print(f\"Key: {key}, New Shape: {arr.shape}\")"
   ]
  },
  {
   "cell_type": "code",
   "execution_count": 22,
   "metadata": {},
   "outputs": [
    {
     "name": "stdout",
     "output_type": "stream",
     "text": [
      "torch.Size([6, 4, 12992, 224])\n",
      "torch.Size([6, 4, 12992, 224])\n"
     ]
    }
   ],
   "source": [
    "batches = []\n",
    "batch = []\n",
    "for key, tensor in data_dict.items():\n",
    "    batch.append(tensor)\n",
    "    if len(batch) == 6:\n",
    "        batches.append(torch.stack(batch))\n",
    "        batch = []\n",
    "\n",
    "if batch:\n",
    "    batches.append(torch.stack(batch))\n",
    "\n",
    "print(batches[0].shape)  # should be torch.Size([6, 4, 12992, 224])\n",
    "print(batches[1].shape)  # should be torch.Size([6, 4, 12992, 224])"
   ]
  }
 ],
 "metadata": {
  "kernelspec": {
   "display_name": ".venv",
   "language": "python",
   "name": "python3"
  },
  "language_info": {
   "codemirror_mode": {
    "name": "ipython",
    "version": 3
   },
   "file_extension": ".py",
   "mimetype": "text/x-python",
   "name": "python",
   "nbconvert_exporter": "python",
   "pygments_lexer": "ipython3",
   "version": "3.12.0"
  }
 },
 "nbformat": 4,
 "nbformat_minor": 2
}
